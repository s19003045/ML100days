{
 "cells": [
  {
   "cell_type": "markdown",
   "metadata": {},
   "source": [
    "### 作業目的: 更加熟習pytorch的tensor操作\n",
    "\n",
    "pytorch中有提供很多的API，讓使用者針對tensor進行各式各樣的操作，本次的作業希望讀者由pytorch的[官方網站](https://pytorch.org/docs/stable/torch.html)中選定四個針對tensor操作的API，對他的使用方法進行範例操作演練。"
   ]
  },
  {
   "cell_type": "markdown",
   "metadata": {},
   "source": [
    "### 選定的API 函數\n",
    "\n",
    "**請寫下選定的API functions**\n",
    "\n",
    "ex:\n",
    "* torch.from_array() / tensor.numpy()\n",
    "* torch.unsqueeze() / torch.squeeze()\n",
    "* tensor.transpose() / tensor.permute()\n",
    "* torch.reshape() / tensor.view()"
   ]
  },
  {
   "cell_type": "code",
   "execution_count": 2,
   "metadata": {},
   "outputs": [
    {
     "name": "stdout",
     "output_type": "stream",
     "text": [
      "Collecting torch\n",
      "  Downloading torch-1.9.1-cp38-cp38-win_amd64.whl (222.1 MB)\n",
      "Requirement already satisfied: typing-extensions in c:\\users\\s1900\\anaconda3\\lib\\site-packages (from torch) (3.7.4.2)\n",
      "Installing collected packages: torch\n",
      "Successfully installed torch-1.9.1\n",
      "Note: you may need to restart the kernel to use updated packages.\n"
     ]
    }
   ],
   "source": [
    "pip install torch"
   ]
  },
  {
   "cell_type": "code",
   "execution_count": 2,
   "metadata": {},
   "outputs": [],
   "source": [
    "# Import torch and other required modules\n",
    "import torch\n",
    "import numpy as np"
   ]
  },
  {
   "cell_type": "markdown",
   "metadata": {},
   "source": [
    "### 範例:\n",
    "### Function 1 - torch.from_array() / tensor.numpy()"
   ]
  },
  {
   "cell_type": "code",
   "execution_count": 3,
   "metadata": {},
   "outputs": [
    {
     "name": "stdout",
     "output_type": "stream",
     "text": [
      "\n",
      "a [[[0.29096128 0.65152254 0.98827087]\n",
      "  [0.47413234 0.69209088 0.19274741]]\n",
      "\n",
      " [[0.64969813 0.39323054 0.8680702 ]\n",
      "  [0.87779926 0.40106532 0.6618064 ]]]\n",
      "a: <class 'numpy.ndarray'>, float64\n",
      "\n",
      "b tensor([[[0.2910, 0.6515, 0.9883],\n",
      "         [0.4741, 0.6921, 0.1927]],\n",
      "\n",
      "        [[0.6497, 0.3932, 0.8681],\n",
      "         [0.8778, 0.4011, 0.6618]]], dtype=torch.float64)\n",
      "b: <class 'torch.Tensor'>, torch.float64\n",
      "\n",
      "c tensor([[[0.2910, 0.6515, 0.9883],\n",
      "         [0.4741, 0.6921, 0.1927]],\n",
      "\n",
      "        [[0.6497, 0.3932, 0.8681],\n",
      "         [0.8778, 0.4011, 0.6618]]], dtype=torch.float64)\n",
      "c: <class 'torch.Tensor'>, torch.float64\n",
      "d: <class 'numpy.ndarray'>, float64\n"
     ]
    }
   ],
   "source": [
    "# Example 1 - 將torch tensor與numpy ndarray互相轉換\n",
    "\n",
    "\n",
    "# 建立 numpy ndarray\n",
    "a = np.random.rand(2,2,3)\n",
    "print(\"\\na\", a)\n",
    "print(f'a: {type(a)}, {a.dtype}')\n",
    "\n",
    "# 建立 torch tensor from ndarray\n",
    "b = torch.from_numpy(a)\n",
    "print(\"\\nb\", b)\n",
    "print(f'b: {type(b)}, {b.dtype}')\n",
    "\n",
    "# 建立 torch tensor\n",
    "c = torch.tensor(a)\n",
    "print(\"\\nc\", c)\n",
    "print(f'c: {type(c)}, {c.dtype}')\n",
    "d = c.numpy()\n",
    "\n",
    "print(f'd: {type(d)}, {d.dtype}')"
   ]
  },
  {
   "cell_type": "code",
   "execution_count": 4,
   "metadata": {},
   "outputs": [
    {
     "name": "stdout",
     "output_type": "stream",
     "text": [
      "t1:tensor([1, 2, 3])\n",
      "torch.Size([3])\n",
      "True\n",
      "t2:tensor([0.])\n",
      "t3:tensor([[[0., 0., 0., 0.],\n",
      "         [0., 0., 0., 0.],\n",
      "         [0., 0., 0., 0.]],\n",
      "\n",
      "        [[0., 0., 0., 0.],\n",
      "         [0., 0., 0., 0.],\n",
      "         [0., 0., 0., 0.]]])\n",
      "t4:tensor([[[1., 1., 1.],\n",
      "         [1., 1., 1.]],\n",
      "\n",
      "        [[1., 1., 1.],\n",
      "         [1., 1., 1.]]])\n"
     ]
    }
   ],
   "source": [
    "t1 = torch.tensor([1,2,3])\n",
    "print(\"t1:{}\".format(t1))\n",
    "print(t1.shape)\n",
    "print(torch.is_tensor(t1))\n",
    "\n",
    "t2 = torch.zeros(1)\n",
    "print(\"t2:{}\".format(t2))\n",
    "\n",
    "t3 = torch.zeros([2,3,4])\n",
    "print(\"t3:{}\".format(t3))\n",
    "\n",
    "t4 = torch.ones([2,2,3])\n",
    "print(\"t4:{}\".format(t4))"
   ]
  },
  {
   "cell_type": "code",
   "execution_count": 5,
   "metadata": {},
   "outputs": [
    {
     "name": "stdout",
     "output_type": "stream",
     "text": [
      "a: <class 'numpy.ndarray'>, int32\n",
      "b: <class 'torch.Tensor'>, torch.int32\n",
      "c: <class 'torch.Tensor'>, torch.int32\n",
      "d: <class 'numpy.ndarray'>, int32\n"
     ]
    }
   ],
   "source": [
    "# Example 2 - 經過轉換後，torch tensor與numpy array依然有相近的資料型態\n",
    "a = np.random.randint(low=0, high=10, size=(2,2))\n",
    "print(f'a: {type(a)}, {a.dtype}')\n",
    "b = torch.from_numpy(a)\n",
    "print(f'b: {type(b)}, {b.dtype}')\n",
    "c = torch.tensor(a)\n",
    "print(f'c: {type(c)}, {c.dtype}')\n",
    "d = c.numpy()\n",
    "print(f'd: {type(d)}, {d.dtype}')"
   ]
  },
  {
   "cell_type": "markdown",
   "metadata": {},
   "source": [
    "### Function 1 - torch.from_numpy() / tensor.numpy()"
   ]
  },
  {
   "cell_type": "code",
   "execution_count": 6,
   "metadata": {},
   "outputs": [
    {
     "name": "stdout",
     "output_type": "stream",
     "text": [
      "[[[0. 0. 0.]\n",
      "  [0. 0. 0.]]]\n",
      "(1, 2, 3)\n",
      "float64\n",
      "tensor([[[0., 0., 0.],\n",
      "         [0., 0., 0.]]], dtype=torch.float64)\n",
      "torch.Size([1, 2, 3])\n",
      "torch.float64\n"
     ]
    }
   ],
   "source": [
    "# torch.from_array() => 將 numpy 的 ndarray 傳換成 tensor 格式\n",
    "\n",
    "q1=np.ndarray([1,2,3])\n",
    "print(q1)\n",
    "print(q1.shape)\n",
    "print(q1.dtype)\n",
    "\n",
    "q_1=torch.from_numpy(q1)\n",
    "print(q_1)\n",
    "print(q_1.shape)\n",
    "print(q_1.dtype)\n"
   ]
  },
  {
   "cell_type": "code",
   "execution_count": 7,
   "metadata": {},
   "outputs": [
    {
     "name": "stdout",
     "output_type": "stream",
     "text": [
      "[[[0. 0. 0.]\n",
      "  [0. 0. 0.]]]\n",
      "(1, 2, 3)\n",
      "float64\n"
     ]
    }
   ],
   "source": [
    "# tensor.numpy() => 將 tensor 格式轉換成 ndarray 格式\n",
    "q2=q_1.numpy()\n",
    "print(q2)\n",
    "print(q2.shape)\n",
    "print(q2.dtype)\n"
   ]
  },
  {
   "cell_type": "markdown",
   "metadata": {},
   "source": [
    "### Function 2 - torch.unsqueeze() / torch.squeeze()"
   ]
  },
  {
   "cell_type": "code",
   "execution_count": 8,
   "metadata": {},
   "outputs": [
    {
     "name": "stdout",
     "output_type": "stream",
     "text": [
      "tensor([[ 9.9447e-259],\n",
      "        [-5.2655e+285]], dtype=torch.float64)\n",
      "torch.Size([2, 1])\n",
      "\n",
      ":壓縮維度1 tensor([ 9.9447e-259, -5.2655e+285], dtype=torch.float64)\n",
      "torch.Size([2])\n",
      "\n",
      "擴充維度2 tensor([[[ 9.9447e-259]],\n",
      "\n",
      "        [[-5.2655e+285]]], dtype=torch.float64)\n",
      "torch.Size([2])\n",
      "\n",
      " tensor([[[0., 0., 0.],\n",
      "         [0., 0., 0.]]], dtype=torch.float64)\n",
      "torch.Size([1, 2, 3])\n",
      "\n",
      " tensor([[[[0., 0., 0.]],\n",
      "\n",
      "         [[0., 0., 0.]]]], dtype=torch.float64)\n",
      "torch.Size([1, 2, 1, 3])\n"
     ]
    }
   ],
   "source": [
    "# torch.unsqueeze() => 擴充某一個維度\n",
    "\n",
    "\n",
    "q0=torch.from_numpy(np.ndarray([2,1]))\n",
    "print(q0)\n",
    "print(q0.shape)\n",
    "\n",
    "# 維度1 => 壓縮\n",
    "q_0_s=torch.squeeze(q0,1)\n",
    "print(\"\\n:壓縮維度1\",q_0_s)\n",
    "print(q_0_s.shape)\n",
    "\n",
    "q_0=torch.unsqueeze(q0,2)\n",
    "print(\"\\n擴充維度2\",q_0)\n",
    "print(q_0_s.shape)\n",
    "\n",
    "q_1\n",
    "print(\"\\n\",q_1)\n",
    "print(q_1.shape)\n",
    "q_2=torch.unsqueeze(q_1, 2)\n",
    "print(\"\\n\",q_2)\n",
    "print(q_2.shape)\n",
    "\n",
    "# shape : [1,2,3] => 變成 [1,2,1,3]\n",
    "\n"
   ]
  },
  {
   "cell_type": "code",
   "execution_count": 9,
   "metadata": {},
   "outputs": [
    {
     "data": {
      "text/plain": [
       "tensor([[ 9.9447e-259],\n",
       "        [-5.2655e+285]], dtype=torch.float64)"
      ]
     },
     "execution_count": 9,
     "metadata": {},
     "output_type": "execute_result"
    }
   ],
   "source": [
    "q0"
   ]
  },
  {
   "cell_type": "markdown",
   "metadata": {},
   "source": [
    "### Function 3 - tensor.transpose() / tensor.permute()"
   ]
  },
  {
   "cell_type": "code",
   "execution_count": 35,
   "metadata": {},
   "outputs": [
    {
     "name": "stdout",
     "output_type": "stream",
     "text": [
      "input_x tensor([[[74, 75, 59],\n",
      "         [59, 90, 10]],\n",
      "\n",
      "        [[44, 63, 58],\n",
      "         [51,  8, 38]]])\n",
      "q0_trans:tensor([[[74, 75, 59],\n",
      "         [44, 63, 58]],\n",
      "\n",
      "        [[59, 90, 10],\n",
      "         [51,  8, 38]]])\n"
     ]
    }
   ],
   "source": [
    "# tensor.transpose() => 將 tensor 依照輸入的 \"二\" 個維度轉置\n",
    "\n",
    "### your code ###\n",
    "input_x = torch.randint(100,[2,2,3])\n",
    "print(\"input_x\", input_x)\n",
    "output_x=torch.transpose(input_x,0,1)\n",
    "print(\"q0_trans:{}\".format(output_x))\n"
   ]
  },
  {
   "cell_type": "code",
   "execution_count": 42,
   "metadata": {},
   "outputs": [
    {
     "name": "stdout",
     "output_type": "stream",
     "text": [
      "tensor([[98, 21],\n",
      "        [67, 84]])\n",
      "tensor([[98, 21],\n",
      "        [67, 84]])\n",
      "tensor([[[78, 43, 46],\n",
      "         [16, 28, 34]],\n",
      "\n",
      "        [[70, 13, 23],\n",
      "         [89, 88, 40]]])\n",
      "tensor([[[78, 43, 46],\n",
      "         [16, 28, 34]],\n",
      "\n",
      "        [[70, 13, 23],\n",
      "         [89, 88, 40]]])\n",
      "tensor([[[[98, 12, 55,  6],\n",
      "          [72,  7, 66, 72],\n",
      "          [56, 36, 93, 63]],\n",
      "\n",
      "         [[87, 76, 96, 68],\n",
      "          [ 2, 40,  0, 66],\n",
      "          [64, 75, 85, 46]]],\n",
      "\n",
      "\n",
      "        [[[11, 44, 67, 94],\n",
      "          [32, 28, 28, 64],\n",
      "          [12, 95, 82, 61]],\n",
      "\n",
      "         [[33,  4, 23, 75],\n",
      "          [90, 49, 42, 73],\n",
      "          [16, 41, 50, 78]]]])\n",
      "tensor([[[[98, 12, 55,  6],\n",
      "          [72,  7, 66, 72],\n",
      "          [56, 36, 93, 63]],\n",
      "\n",
      "         [[87, 76, 96, 68],\n",
      "          [ 2, 40,  0, 66],\n",
      "          [64, 75, 85, 46]]],\n",
      "\n",
      "\n",
      "        [[[11, 44, 67, 94],\n",
      "          [32, 28, 28, 64],\n",
      "          [12, 95, 82, 61]],\n",
      "\n",
      "         [[33,  4, 23, 75],\n",
      "          [90, 49, 42, 73],\n",
      "          [16, 41, 50, 78]]]])\n"
     ]
    }
   ],
   "source": [
    "#  tensor.permute() => 將 tensor 依照輸入的 \"多個\" 維度轉置\n",
    "\n",
    "### your code ###\n",
    "input_x = torch.randint(100,[2,2])\n",
    "print(input_x)\n",
    "\n",
    "# 2nd arg 的維度必須與 tensor 的維度一致\n",
    "output_x = torch.permute(input_x, [0, 1])\n",
    "print(output_x)\n",
    "\n",
    "\n",
    "### your code ###\n",
    "input_x = torch.randint(100,[2,2,3])\n",
    "print(input_x)\n",
    "\n",
    "# 2nd arg 的維度必須與 tensor 的維度一致\n",
    "output_x = torch.permute(input_x, [0, 1, 2])\n",
    "print(output_x)\n",
    "\n",
    "### your code ###\n",
    "input_x = torch.randint(100,[2,2,3,4])\n",
    "print(input_x)\n",
    "\n",
    "# 2nd arg 的維度必須與 tensor 的維度一致\n",
    "output_x = torch.permute(input_x, [0, 1, 2, 3])\n",
    "print(output_x)"
   ]
  },
  {
   "cell_type": "markdown",
   "metadata": {},
   "source": [
    "### Function 4 - torch.reshape() / tensor.view()"
   ]
  },
  {
   "cell_type": "code",
   "execution_count": 44,
   "metadata": {},
   "outputs": [
    {
     "name": "stdout",
     "output_type": "stream",
     "text": [
      "input_x: tensor([[57, 67],\n",
      "        [70, 47]])\n",
      "output_x: tensor([57, 67, 70, 47])\n"
     ]
    }
   ],
   "source": [
    "# torch.reshape()  => 重塑 tensor\n",
    "\n",
    "### your code ###\n",
    "input_x=torch.randint(100,[2,2])\n",
    "print(\"input_x:\",input_x)\n",
    "\n",
    "output_x=torch.reshape(input_x,(-1,))\n",
    "print(\"output_x:\",output_x)"
   ]
  },
  {
   "cell_type": "code",
   "execution_count": 64,
   "metadata": {},
   "outputs": [
    {
     "name": "stdout",
     "output_type": "stream",
     "text": [
      "input_x: tensor([[53, 49],\n",
      "        [73, 87]])\n",
      "tensor([[53, 49, 73, 87]])\n",
      "input_x: tensor([[[44, 46],\n",
      "         [ 1, 38],\n",
      "         [48, 35]],\n",
      "\n",
      "        [[29, 48],\n",
      "         [17,  5],\n",
      "         [46,  6]],\n",
      "\n",
      "        [[47,  7],\n",
      "         [26, 39],\n",
      "         [21, 32]]])\n",
      "output_x: tensor([[[44, 46,  1, 38, 48, 35, 29, 48, 17,  5, 46,  6, 47,  7, 26, 39, 21,\n",
      "          32]]])\n",
      "output_x: tensor([[[44],\n",
      "         [46],\n",
      "         [ 1],\n",
      "         [38],\n",
      "         [48],\n",
      "         [35],\n",
      "         [29],\n",
      "         [48],\n",
      "         [17]],\n",
      "\n",
      "        [[ 5],\n",
      "         [46],\n",
      "         [ 6],\n",
      "         [47],\n",
      "         [ 7],\n",
      "         [26],\n",
      "         [39],\n",
      "         [21],\n",
      "         [32]]])\n"
     ]
    }
   ],
   "source": [
    "# tensor.view() => 依照輸入的維度 轉置 tensor\n",
    "### your code ###\n",
    "\n",
    "input_x=torch.randint(100,[2,2])\n",
    "print(\"input_x:\",input_x)\n",
    "# 輸入的 size 乘機 必須與 tensor 的維度乘機相等: 2x2 = 1x4\n",
    "output_view=input_x.view(1,4)\n",
    "print(output_view)\n",
    "\n",
    "\n",
    "# 輸入的 size 乘機 必須與 tensor 的維度乘機相等: 3x3x2 = 1x1x18\n",
    "input_x=torch.randint(50,[3,3,2])\n",
    "print(\"input_x:\",input_x)\n",
    "output_x=input_x.view(1,1,18)\n",
    "print(\"output_x:\",output_x)\n",
    "output_x=input_x.view(2,9,1)\n",
    "print(\"output_x:\",output_x)\n",
    "\n",
    "\n",
    "\n"
   ]
  },
  {
   "cell_type": "code",
   "execution_count": null,
   "metadata": {},
   "outputs": [],
   "source": []
  }
 ],
 "metadata": {
  "kernelspec": {
   "display_name": "Python 3",
   "language": "python",
   "name": "python3"
  },
  "language_info": {
   "codemirror_mode": {
    "name": "ipython",
    "version": 3
   },
   "file_extension": ".py",
   "mimetype": "text/x-python",
   "name": "python",
   "nbconvert_exporter": "python",
   "pygments_lexer": "ipython3",
   "version": "3.8.3"
  }
 },
 "nbformat": 4,
 "nbformat_minor": 2
}
