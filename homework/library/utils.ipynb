{
 "cells": [
  {
   "cell_type": "code",
   "execution_count": 1,
   "metadata": {},
   "outputs": [],
   "source": [
    "# transform file encoding from big5 to utf8\n",
    "def big5ToUtf8(pathFile, newPathFile):\n",
    "    # 開啟 Big5 輸入檔案\n",
    "    inFile = open(pathFile, \"r\", encoding = \"Big5\")\n",
    "\n",
    "    # 開啟 UTF-8 輸出檔案\n",
    "    outFile = open(newPathFile, \"w\", encoding = \"UTF-8\")\n",
    "\n",
    "    # 以 Big5 編碼讀取檔案\n",
    "    content = inFile.read()\n",
    "\n",
    "    # 以 UTF-8 編碼寫入檔案\n",
    "    outFile.write(content)\n",
    "\n",
    "    # 關閉檔案\n",
    "    inFile.close()\n",
    "    outFile.close()\n",
    "    \n",
    "# transform file encoding from big5 to utf8\n",
    "def Utf8ToBig5(pathFile, newPathFile):\n",
    "    # 開啟 Big5 輸入檔案\n",
    "    inFile = open(pathFile, \"r\", encoding = \"UTF-8\")\n",
    "\n",
    "    # 開啟 UTF-8 輸出檔案\n",
    "    outFile = open(newPathFile, \"w\", encoding = \"Big5\")\n",
    "\n",
    "    # 以 Big5 編碼讀取檔案\n",
    "    content = inFile.read()\n",
    "\n",
    "    # 以 UTF-8 編碼寫入檔案\n",
    "    outFile.write(content)\n",
    "\n",
    "    # 關閉檔案\n",
    "    inFile.close()\n",
    "    outFile.close()"
   ]
  },
  {
   "cell_type": "code",
   "execution_count": null,
   "metadata": {},
   "outputs": [],
   "source": []
  }
 ],
 "metadata": {
  "kernelspec": {
   "display_name": "Python 3",
   "language": "python",
   "name": "python3"
  },
  "language_info": {
   "codemirror_mode": {
    "name": "ipython",
    "version": 3
   },
   "file_extension": ".py",
   "mimetype": "text/x-python",
   "name": "python",
   "nbconvert_exporter": "python",
   "pygments_lexer": "ipython3",
   "version": "3.8.3"
  }
 },
 "nbformat": 4,
 "nbformat_minor": 4
}
