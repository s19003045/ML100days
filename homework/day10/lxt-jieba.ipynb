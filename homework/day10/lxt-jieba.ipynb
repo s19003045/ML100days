{
 "cells": [
  {
   "cell_type": "markdown",
   "metadata": {},
   "source": [
    "## import libs "
   ]
  },
  {
   "cell_type": "code",
   "execution_count": 1,
   "metadata": {},
   "outputs": [],
   "source": [
    "import jieba, re"
   ]
  },
  {
   "cell_type": "code",
   "execution_count": 2,
   "metadata": {},
   "outputs": [],
   "source": [
    "jieba.set_dictionary('課程練習/dict.txt')"
   ]
  },
  {
   "cell_type": "markdown",
   "metadata": {},
   "source": [
    "## read article from file into sentence list"
   ]
  },
  {
   "cell_type": "code",
   "execution_count": 3,
   "metadata": {},
   "outputs": [],
   "source": [
    "# read from excel file\n",
    "\n",
    "\n",
    "\n"
   ]
  },
  {
   "cell_type": "code",
   "execution_count": 4,
   "metadata": {},
   "outputs": [],
   "source": [
    "sentence = '''諒闇[1]中，本朝之祝賀，概行廢止。余招培火、[2]猶龍、[3]雲龍、[4]趙根、[5]愛子[6]一同登山，欲使猶龍知造林之成責也。環山一週約行三時間，[7]過午始返。逢源[8]因體倦，故不同行。午後四時幼春[9]來。培火復提議文協總會[10]尚有二日，當先決定吾人之態度。幼春表示無意見。逢源謂溫卿、[11]敏川、[12]明祿[13]輩力主張委員制，不如使其負責任，委之辦理，余亦頗表贊成其議。言語間，忽與培火起衝突，殊出意外，余自來之對培火事事取隱忍退讓，不意此刻竟不能忍也。夜餐後向之道歉。''' "
   ]
  },
  {
   "cell_type": "code",
   "execution_count": 5,
   "metadata": {},
   "outputs": [
    {
     "data": {
      "text/plain": [
       "'諒闇[1]中，本朝之祝賀，概行廢止。余招培火、[2]猶龍、[3]雲龍、[4]趙根、[5]愛子[6]一同登山，欲使猶龍知造林之成責也。環山一週約行三時間，[7]過午始返。逢源[8]因體倦，故不同行。午後四時幼春[9]來。培火復提議文協總會[10]尚有二日，當先決定吾人之態度。幼春表示無意見。逢源謂溫卿、[11]敏川、[12]明祿[13]輩力主張委員制，不如使其負責任，委之辦理，余亦頗表贊成其議。言語間，忽與培火起衝突，殊出意外，余自來之對培火事事取隱忍退讓，不意此刻竟不能忍也。夜餐後向之道歉。'"
      ]
     },
     "execution_count": 5,
     "metadata": {},
     "output_type": "execute_result"
    }
   ],
   "source": [
    "sentence"
   ]
  },
  {
   "cell_type": "markdown",
   "metadata": {},
   "source": [
    "## preprocess sentence"
   ]
  },
  {
   "cell_type": "code",
   "execution_count": 6,
   "metadata": {},
   "outputs": [],
   "source": [
    "sentence = re.sub(r\"\\[[0-9]*\\]\", \"\", sentence)"
   ]
  },
  {
   "cell_type": "code",
   "execution_count": 7,
   "metadata": {},
   "outputs": [
    {
     "data": {
      "text/plain": [
       "'諒闇中，本朝之祝賀，概行廢止。余招培火、猶龍、雲龍、趙根、愛子一同登山，欲使猶龍知造林之成責也。環山一週約行三時間，過午始返。逢源因體倦，故不同行。午後四時幼春來。培火復提議文協總會尚有二日，當先決定吾人之態度。幼春表示無意見。逢源謂溫卿、敏川、明祿輩力主張委員制，不如使其負責任，委之辦理，余亦頗表贊成其議。言語間，忽與培火起衝突，殊出意外，余自來之對培火事事取隱忍退讓，不意此刻竟不能忍也。夜餐後向之道歉。'"
      ]
     },
     "execution_count": 7,
     "metadata": {},
     "output_type": "execute_result"
    }
   ],
   "source": [
    "sentence"
   ]
  },
  {
   "cell_type": "code",
   "execution_count": null,
   "metadata": {},
   "outputs": [],
   "source": []
  },
  {
   "cell_type": "markdown",
   "metadata": {},
   "source": [
    "## read person, location from file into words"
   ]
  },
  {
   "cell_type": "code",
   "execution_count": null,
   "metadata": {},
   "outputs": [],
   "source": []
  },
  {
   "cell_type": "code",
   "execution_count": 8,
   "metadata": {},
   "outputs": [
    {
     "data": {
      "text/plain": [
       "['培火', '猶龍', '雲龍', '趙根', '愛子']"
      ]
     },
     "execution_count": 8,
     "metadata": {},
     "output_type": "execute_result"
    }
   ],
   "source": [
    "person = \"培火\\n猶龍\\n雲龍\\n趙根\\n愛子\"\n",
    "\n",
    "person_list = person.split(\"\\n\")\n",
    "person_list"
   ]
  },
  {
   "cell_type": "code",
   "execution_count": 9,
   "metadata": {},
   "outputs": [],
   "source": [
    "# write into file\n",
    "\n",
    "with open('./lxt-words.txt', \"w\", encoding=\"utf-8\") as file:\n",
    "    file.write(person)"
   ]
  },
  {
   "cell_type": "code",
   "execution_count": 10,
   "metadata": {},
   "outputs": [
    {
     "name": "stdout",
     "output_type": "stream",
     "text": [
      "培火\n",
      "猶龍\n",
      "雲龍\n",
      "趙根\n",
      "愛子\n"
     ]
    }
   ],
   "source": [
    "# read from file\n",
    "\n",
    "with open('./lxt-words.txt', \"r\", encoding=\"utf-8\") as file:\n",
    "    data = file.read()\n",
    "    print(data)"
   ]
  },
  {
   "cell_type": "markdown",
   "metadata": {},
   "source": [
    "## set custom dictionary to jieba"
   ]
  },
  {
   "cell_type": "code",
   "execution_count": 11,
   "metadata": {},
   "outputs": [
    {
     "name": "stderr",
     "output_type": "stream",
     "text": [
      "Building prefix dict from C:\\Gary\\Tech_learn\\ML100days\\homework\\day10\\課程練習\\dict.txt ...\n",
      "Loading model from cache C:\\Users\\s1900\\AppData\\Local\\Temp\\jieba.u933443652cd685f552b0cc1c172be227.cache\n",
      "Loading model cost 1.165 seconds.\n",
      "Prefix dict has been built successfully.\n"
     ]
    }
   ],
   "source": [
    "jieba.load_userdict('./lxt-words.txt')"
   ]
  },
  {
   "cell_type": "code",
   "execution_count": 12,
   "metadata": {},
   "outputs": [],
   "source": [
    "sentence_cut = jieba.cut(sentence, use_paddle=True, cut_all=False, HMM=True)"
   ]
  },
  {
   "cell_type": "markdown",
   "metadata": {},
   "source": [
    "## cut words in sentence"
   ]
  },
  {
   "cell_type": "code",
   "execution_count": 13,
   "metadata": {},
   "outputs": [
    {
     "name": "stdout",
     "output_type": "stream",
     "text": [
      "諒\n",
      "闇\n",
      "中\n",
      "，\n",
      "本朝\n",
      "之\n",
      "祝賀\n",
      "，\n",
      "概行\n",
      "廢止\n",
      "。\n",
      "余招\n",
      "培火\n",
      "、\n",
      "猶龍\n",
      "、\n",
      "雲龍\n",
      "、\n",
      "趙根\n",
      "、\n",
      "愛子\n",
      "一同\n",
      "登山\n",
      "，\n",
      "欲\n",
      "使\n",
      "猶龍\n",
      "知\n",
      "造林\n",
      "之成責\n",
      "也\n",
      "。\n",
      "環山\n",
      "一週\n",
      "約\n",
      "行三\n",
      "時間\n",
      "，\n",
      "過午\n",
      "始返\n",
      "。\n",
      "逢源\n",
      "因體\n",
      "倦\n",
      "，\n",
      "故\n",
      "不\n",
      "同行\n",
      "。\n",
      "午後\n",
      "四時\n",
      "幼春來\n",
      "。\n",
      "培火\n",
      "復\n",
      "提議\n",
      "文協\n",
      "總會\n",
      "尚有\n",
      "二日\n",
      "，\n",
      "當\n",
      "先\n",
      "決定\n",
      "吾人\n",
      "之\n",
      "態度\n",
      "。\n",
      "幼春\n",
      "表示\n",
      "無\n",
      "意見\n",
      "。\n",
      "逢源謂\n",
      "溫卿\n",
      "、\n",
      "敏川\n",
      "、\n",
      "明祿輩力\n",
      "主張\n",
      "委員制\n",
      "，\n",
      "不如\n",
      "使\n",
      "其\n",
      "負責任\n",
      "，\n",
      "委之\n",
      "辦理\n",
      "，\n",
      "余亦頗表\n",
      "贊成\n",
      "其議\n",
      "。\n",
      "言語\n",
      "間\n",
      "，\n",
      "忽\n",
      "與\n",
      "培火\n",
      "起\n",
      "衝突\n",
      "，\n",
      "殊出\n",
      "意外\n",
      "，\n",
      "余\n",
      "自來\n",
      "之\n",
      "對\n",
      "培火\n",
      "事事\n",
      "取\n",
      "隱忍\n",
      "退讓\n",
      "，\n",
      "不意\n",
      "此刻\n",
      "竟\n",
      "不能\n",
      "忍\n",
      "也\n",
      "。\n",
      "夜餐\n",
      "後\n",
      "向\n",
      "之\n",
      "道歉\n",
      "。\n"
     ]
    }
   ],
   "source": [
    "for cut in sentence_cut:\n",
    "    print(cut)"
   ]
  },
  {
   "cell_type": "markdown",
   "metadata": {},
   "source": [
    "## tokenize words in sentence"
   ]
  },
  {
   "cell_type": "code",
   "execution_count": 14,
   "metadata": {},
   "outputs": [],
   "source": [
    "sentence_token = jieba.tokenize(sentence)"
   ]
  },
  {
   "cell_type": "code",
   "execution_count": 15,
   "metadata": {},
   "outputs": [
    {
     "name": "stdout",
     "output_type": "stream",
     "text": [
      "('諒', 0, 1)\n",
      "('闇', 1, 2)\n",
      "('中', 2, 3)\n",
      "('，', 3, 4)\n",
      "('本朝', 4, 6)\n",
      "('之', 6, 7)\n",
      "('祝賀', 7, 9)\n",
      "('，', 9, 10)\n",
      "('概行', 10, 12)\n",
      "('廢止', 12, 14)\n",
      "('。', 14, 15)\n",
      "('余招', 15, 17)\n",
      "('培火', 17, 19)\n",
      "('、', 19, 20)\n",
      "('猶龍', 20, 22)\n",
      "('、', 22, 23)\n",
      "('雲龍', 23, 25)\n",
      "('、', 25, 26)\n",
      "('趙根', 26, 28)\n",
      "('、', 28, 29)\n",
      "('愛子', 29, 31)\n",
      "('一同', 31, 33)\n",
      "('登山', 33, 35)\n",
      "('，', 35, 36)\n",
      "('欲', 36, 37)\n",
      "('使', 37, 38)\n",
      "('猶龍', 38, 40)\n",
      "('知', 40, 41)\n",
      "('造林', 41, 43)\n",
      "('之成責', 43, 46)\n",
      "('也', 46, 47)\n",
      "('。', 47, 48)\n",
      "('環山', 48, 50)\n",
      "('一週', 50, 52)\n",
      "('約', 52, 53)\n",
      "('行三', 53, 55)\n",
      "('時間', 55, 57)\n",
      "('，', 57, 58)\n",
      "('過午', 58, 60)\n",
      "('始返', 60, 62)\n",
      "('。', 62, 63)\n",
      "('逢源', 63, 65)\n",
      "('因體', 65, 67)\n",
      "('倦', 67, 68)\n",
      "('，', 68, 69)\n",
      "('故', 69, 70)\n",
      "('不', 70, 71)\n",
      "('同行', 71, 73)\n",
      "('。', 73, 74)\n",
      "('午後', 74, 76)\n",
      "('四時', 76, 78)\n",
      "('幼春來', 78, 81)\n",
      "('。', 81, 82)\n",
      "('培火', 82, 84)\n",
      "('復', 84, 85)\n",
      "('提議', 85, 87)\n",
      "('文協', 87, 89)\n",
      "('總會', 89, 91)\n",
      "('尚有', 91, 93)\n",
      "('二日', 93, 95)\n",
      "('，', 95, 96)\n",
      "('當', 96, 97)\n",
      "('先', 97, 98)\n",
      "('決定', 98, 100)\n",
      "('吾人', 100, 102)\n",
      "('之', 102, 103)\n",
      "('態度', 103, 105)\n",
      "('。', 105, 106)\n",
      "('幼春', 106, 108)\n",
      "('表示', 108, 110)\n",
      "('無', 110, 111)\n",
      "('意見', 111, 113)\n",
      "('。', 113, 114)\n",
      "('逢源謂', 114, 117)\n",
      "('溫卿', 117, 119)\n",
      "('、', 119, 120)\n",
      "('敏川', 120, 122)\n",
      "('、', 122, 123)\n",
      "('明祿輩力', 123, 127)\n",
      "('主張', 127, 129)\n",
      "('委員制', 129, 132)\n",
      "('，', 132, 133)\n",
      "('不如', 133, 135)\n",
      "('使', 135, 136)\n",
      "('其', 136, 137)\n",
      "('負責任', 137, 140)\n",
      "('，', 140, 141)\n",
      "('委之', 141, 143)\n",
      "('辦理', 143, 145)\n",
      "('，', 145, 146)\n",
      "('余亦頗表', 146, 150)\n",
      "('贊成', 150, 152)\n",
      "('其議', 152, 154)\n",
      "('。', 154, 155)\n",
      "('言語', 155, 157)\n",
      "('間', 157, 158)\n",
      "('，', 158, 159)\n",
      "('忽', 159, 160)\n",
      "('與', 160, 161)\n",
      "('培火', 161, 163)\n",
      "('起', 163, 164)\n",
      "('衝突', 164, 166)\n",
      "('，', 166, 167)\n",
      "('殊出', 167, 169)\n",
      "('意外', 169, 171)\n",
      "('，', 171, 172)\n",
      "('余', 172, 173)\n",
      "('自來', 173, 175)\n",
      "('之', 175, 176)\n",
      "('對', 176, 177)\n",
      "('培火', 177, 179)\n",
      "('事事', 179, 181)\n",
      "('取', 181, 182)\n",
      "('隱忍', 182, 184)\n",
      "('退讓', 184, 186)\n",
      "('，', 186, 187)\n",
      "('不意', 187, 189)\n",
      "('此刻', 189, 191)\n",
      "('竟', 191, 192)\n",
      "('不能', 192, 194)\n",
      "('忍', 194, 195)\n",
      "('也', 195, 196)\n",
      "('。', 196, 197)\n",
      "('夜餐', 197, 199)\n",
      "('後', 199, 200)\n",
      "('向', 200, 201)\n",
      "('之', 201, 202)\n",
      "('道歉', 202, 204)\n",
      "('。', 204, 205)\n"
     ]
    }
   ],
   "source": [
    "for token in sentence_token:\n",
    "    print(token)"
   ]
  },
  {
   "cell_type": "markdown",
   "metadata": {},
   "source": [
    "## get word pos from sentence_token"
   ]
  },
  {
   "cell_type": "code",
   "execution_count": 16,
   "metadata": {},
   "outputs": [],
   "source": [
    "sentence_token = jieba.tokenize(sentence)\n",
    "words_pos = []\n",
    "\n",
    "for token in sentence_token:\n",
    "    if token[0] in person_list:\n",
    "        words_pos.append(token)"
   ]
  },
  {
   "cell_type": "code",
   "execution_count": 17,
   "metadata": {},
   "outputs": [
    {
     "data": {
      "text/plain": [
       "[('培火', 17, 19),\n",
       " ('猶龍', 20, 22),\n",
       " ('雲龍', 23, 25),\n",
       " ('趙根', 26, 28),\n",
       " ('愛子', 29, 31),\n",
       " ('猶龍', 38, 40),\n",
       " ('培火', 82, 84),\n",
       " ('培火', 161, 163),\n",
       " ('培火', 177, 179)]"
      ]
     },
     "execution_count": 17,
     "metadata": {},
     "output_type": "execute_result"
    }
   ],
   "source": [
    "words_pos"
   ]
  },
  {
   "cell_type": "markdown",
   "metadata": {},
   "source": [
    "## 找出 words_pos 的最小值及最大值"
   ]
  },
  {
   "cell_type": "code",
   "execution_count": 18,
   "metadata": {},
   "outputs": [
    {
     "name": "stdout",
     "output_type": "stream",
     "text": [
      "evt_min: 17; evgt_max: 40\n"
     ]
    }
   ],
   "source": [
    "evt_min = len(sentence)\n",
    "evt_max = 0\n",
    "\n",
    "# 先取前 6 個人名即可\n",
    "for word in words_pos[:6]:\n",
    "    if word[1] < evt_min:\n",
    "        evt_min = word[1]\n",
    "    if word[2] > evt_max:\n",
    "        evt_max = word[2]\n",
    "\n",
    "print('evt_min: {}; evgt_max: {}'.format(evt_min, evt_max)) "
   ]
  },
  {
   "cell_type": "markdown",
   "metadata": {},
   "source": [
    "## 利用 words_pos 找出 sentence 的該段落"
   ]
  },
  {
   "cell_type": "markdown",
   "metadata": {},
   "source": [
    "- 切割 sentence, 以句號切割\n",
    "- "
   ]
  },
  {
   "cell_type": "code",
   "execution_count": 35,
   "metadata": {},
   "outputs": [],
   "source": [
    "\n",
    "# def findPos(sentence, word, start, end):\n",
    "#     res = sentence.find(word, start, end)\n",
    "\n",
    "\n",
    "# min: person_pos 最小值\n",
    "# max: person_pos 最大值\n",
    "def searchEvtPos(sentence, min, max):\n",
    "    print(sentence, min, max)\n",
    "    minProbe = 0\n",
    "    maxProbe = len(sentence)\n",
    "    \n",
    "    # initialize event_pos for store event position\n",
    "    evt_pos = [None]*2  # min , max\n",
    "    if min >= 0:\n",
    "        evt_pos[0] = min\n",
    "    if max <= len(sentence):\n",
    "        evt_pos[1] = max\n",
    "    \n",
    "    isContinue = True\n",
    "    stop = 0\n",
    "    # 找尋段落的起始位置(在 。 後面)\n",
    "    while isContinue:\n",
    "#         print('minProbe: {}; min: {}'.format(minProbe, min))\n",
    "#         stop = 0\n",
    "        if minProbe < min:\n",
    "            stop = sentence.find(\"。\", stop, min)\n",
    "            if stop == -1:\n",
    "                stop = min + 1\n",
    "                isContinue = False\n",
    "#                 break\n",
    "            elif stop > 0 and stop < min:\n",
    "                minProbe = stop\n",
    "                stop = stop + 1\n",
    "#             else:\n",
    "#                 isContinue = False\n",
    "        else:\n",
    "            break\n",
    "        \n",
    "\n",
    "         \n",
    "    # 找尋段落的終點位置(在 。 前面)\n",
    "    isContinue = True\n",
    "    stop = max\n",
    "    \n",
    "    while isContinue:\n",
    "#         print('maxProbe: {}; max: {}'.format(maxProbe, max))\n",
    "#         stop = 0\n",
    "        if stop < maxProbe:\n",
    "            stop = sentence.find(\"。\", stop, maxProbe)\n",
    "            if stop == -1:\n",
    "                # search \"，\"\n",
    "                stop = sentence.find(\"，\", max , maxProbe)\n",
    "                maxProbe = stop\n",
    "#                 stop = min + 1\n",
    "                isContinue = False\n",
    "#                 break\n",
    "            elif stop > 0 and stop < maxProbe:\n",
    "                maxProbe = stop\n",
    "                stop = stop + 1\n",
    "                isContinue = False\n",
    "            else:\n",
    "                isContinue = False\n",
    "        else:\n",
    "            break\n",
    "    evt_pos[0] = minProbe + 1\n",
    "    evt_pos[1] = maxProbe + 1\n",
    "    print('\\n')\n",
    "    print('該段落的起始值/終點值 分別為：', evt_pos)\n",
    "    return evt_pos\n",
    "    \n",
    "\n",
    "\n"
   ]
  },
  {
   "cell_type": "code",
   "execution_count": 36,
   "metadata": {},
   "outputs": [
    {
     "name": "stdout",
     "output_type": "stream",
     "text": [
      "事件人名清單： [('培火', 17, 19), ('猶龍', 20, 22), ('雲龍', 23, 25), ('趙根', 26, 28), ('愛子', 29, 31), ('猶龍', 38, 40)] \n",
      "\n",
      "諒闇中，本朝之祝賀，概行廢止。余招培火、猶龍、雲龍、趙根、愛子一同登山，欲使猶龍知造林之成責也。環山一週約行三時間，過午始返。逢源因體倦，故不同行。午後四時幼春來。培火復提議文協總會尚有二日，當先決定吾人之態度。幼春表示無意見。逢源謂溫卿、敏川、明祿輩力主張委員制，不如使其負責任，委之辦理，余亦頗表贊成其議。言語間，忽與培火起衝突，殊出意外，余自來之對培火事事取隱忍退讓，不意此刻竟不能忍也。夜餐後向之道歉。 17 40\n",
      "\n",
      "\n",
      "該段落的起始值/終點值 分別為： [15, 48]\n",
      "該段落為： 余招培火、猶龍、雲龍、趙根、愛子一同登山，欲使猶龍知造林之成責也。\n"
     ]
    }
   ],
   "source": [
    "print(\"事件人名清單：\", words_pos[:6], \"\\n\")\n",
    "\n",
    "evt_pos = searchEvtPos(sentence, evt_min, evt_max)\n",
    "\n",
    "print(\"該段落為：\", sentence[evt_pos[0]:evt_pos[1]])"
   ]
  },
  {
   "cell_type": "code",
   "execution_count": null,
   "metadata": {},
   "outputs": [],
   "source": []
  },
  {
   "cell_type": "code",
   "execution_count": null,
   "metadata": {},
   "outputs": [],
   "source": []
  },
  {
   "cell_type": "code",
   "execution_count": null,
   "metadata": {},
   "outputs": [],
   "source": []
  },
  {
   "cell_type": "code",
   "execution_count": null,
   "metadata": {},
   "outputs": [],
   "source": []
  },
  {
   "cell_type": "code",
   "execution_count": null,
   "metadata": {},
   "outputs": [],
   "source": []
  }
 ],
 "metadata": {
  "kernelspec": {
   "display_name": "Python 3",
   "language": "python",
   "name": "python3"
  },
  "language_info": {
   "codemirror_mode": {
    "name": "ipython",
    "version": 3
   },
   "file_extension": ".py",
   "mimetype": "text/x-python",
   "name": "python",
   "nbconvert_exporter": "python",
   "pygments_lexer": "ipython3",
   "version": "3.8.3"
  }
 },
 "nbformat": 4,
 "nbformat_minor": 4
}
