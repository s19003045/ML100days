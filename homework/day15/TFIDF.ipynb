{
 "cells": [
  {
   "cell_type": "markdown",
   "metadata": {},
   "source": [
    "* Reference: https://radimrehurek.com/gensim/models/fasttext.html"
   ]
  },
  {
   "cell_type": "code",
   "execution_count": 26,
   "metadata": {},
   "outputs": [
    {
     "name": "stdout",
     "output_type": "stream",
     "text": [
      "words \n",
      " ['another', 'can', 'comment', 'document', 'first', 'here', 'is', 'no', 'put', 'second', 'that', 'the', 'this', 'we']\n",
      "\n",
      " 單詞對應index: \n",
      "{'this': 12, 'is': 6, 'the': 11, 'first': 4, 'document': 3, 'we': 13, 'can': 1, 'put': 8, 'another': 0, 'here': 5, 'that': 10, 'second': 9, 'no': 7, 'comment': 2}\n",
      "\n",
      " type(tfidf_train) <class 'scipy.sparse.csr.csr_matrix'>\n",
      "\n",
      " tfidf_train   (0, 13)\t0.3090426585183487\n",
      "  (0, 12)\t0.3090426585183487\n",
      "  (0, 11)\t0.23503490751779094\n",
      "  (0, 8)\t0.3090426585183487\n",
      "  (0, 6)\t0.23503490751779094\n",
      "  (0, 5)\t0.3090426585183487\n",
      "  (0, 4)\t0.3090426585183487\n",
      "  (0, 3)\t0.4700698150355819\n",
      "  (0, 1)\t0.3090426585183487\n",
      "  (0, 0)\t0.3090426585183487\n",
      "  (1, 11)\t0.39351120409397233\n",
      "  (1, 10)\t0.5174199439321682\n",
      "  (1, 9)\t0.5174199439321682\n",
      "  (1, 6)\t0.39351120409397233\n",
      "  (1, 3)\t0.39351120409397233\n",
      "  (2, 7)\t0.7071067811865476\n",
      "  (2, 2)\t0.7071067811865476\n",
      "\n",
      " tfidf_train.toarray() [[0.30904266 0.30904266 0.         0.47006982 0.30904266 0.30904266\n",
      "  0.23503491 0.         0.30904266 0.         0.         0.23503491\n",
      "  0.30904266 0.30904266]\n",
      " [0.         0.         0.         0.3935112  0.         0.\n",
      "  0.3935112  0.         0.         0.51741994 0.51741994 0.3935112\n",
      "  0.         0.        ]\n",
      " [0.         0.         0.70710678 0.         0.         0.\n",
      "  0.         0.70710678 0.         0.         0.         0.\n",
      "  0.         0.        ]]\n",
      "\n",
      " tfidf_test.toarray() [[0.         0.         0.         0.45985353 0.         0.\n",
      "  0.45985353 0.         0.         0.         0.         0.45985353\n",
      "  0.60465213 0.        ]]\n"
     ]
    }
   ],
   "source": [
    "from sklearn.feature_extraction.text import TfidfVectorizer\n",
    "\n",
    "X_train = ['This is the first document, we can put another document here.', 'That is the second document.','No comment']\n",
    "X_test = ['This is the third document.']\n",
    "\n",
    "# max_df=0.5 單詞如果在50%以上的文件出現就不考慮 viyl hhl\n",
    "# min_df=5 單詞如果出現次數少於5次就不考慮, min_df=0.1 單詞如果在10%以下的文件中出現就不考慮\n",
    "# stop_words => list\n",
    "# vectorizer = TfidfVectorizer(stop_words=['this'], min_df=0.4) \n",
    "vectorizer = TfidfVectorizer() \n",
    "\n",
    "\n",
    "## 用 X_train來 build 字典，字數還有document 數量\n",
    "vectorizer.fit(X_train)\n",
    "\n",
    "## 訓練完後，才可以取得 get_feature_names => 擷取(要分析)的單字\n",
    "words = vectorizer.get_feature_names()\n",
    "print('words \\n', words)\n",
    "\n",
    "# 屬性 vocabulary_ => A mapping of terms to feature indices.\n",
    "print('\\n 單詞對應index: \\n{}'.format(vectorizer.vocabulary_))\n",
    "\n",
    "## .transform => Transform documents to document-term matrix.\n",
    "## 得到 tfidf vector\n",
    "tfidf_train = vectorizer.transform(X_train)\n",
    "tfidf_test = vectorizer.transform(X_test)\n",
    "\n",
    "\n",
    "print('\\n type(tfidf_train)', type(tfidf_train))\n",
    "print('\\n tfidf_train', tfidf_train)\n",
    "\n",
    "# 條列訓練資料中的每個 sentence 的 wordVector\n",
    "print('\\n tfidf_train.toarray()', tfidf_train.toarray())\n",
    "\n",
    "# 條列 \"測試資料\" 中的每個 sentence 的 wordVector\n",
    "print('\\n tfidf_test.toarray()', tfidf_test.toarray())\n",
    "\n",
    "\n",
    "\n"
   ]
  },
  {
   "cell_type": "code",
   "execution_count": 24,
   "metadata": {},
   "outputs": [
    {
     "data": {
      "text/plain": [
       "TfidfVectorizer()"
      ]
     },
     "execution_count": 24,
     "metadata": {},
     "output_type": "execute_result"
    }
   ],
   "source": [
    "vectorizer"
   ]
  },
  {
   "cell_type": "markdown",
   "metadata": {},
   "source": [
    "---"
   ]
  },
  {
   "cell_type": "markdown",
   "metadata": {},
   "source": [
    "#### 我們也可以將TfidfVectorizer拆解成兩個步驟：CountVectorizer, TfidfTransformer"
   ]
  },
  {
   "cell_type": "markdown",
   "metadata": {},
   "source": []
  },
  {
   "cell_type": "code",
   "execution_count": 27,
   "metadata": {},
   "outputs": [],
   "source": [
    "from sklearn.feature_extraction.text import CountVectorizer, TfidfVectorizer, TfidfTransformer"
   ]
  },
  {
   "cell_type": "code",
   "execution_count": 28,
   "metadata": {},
   "outputs": [],
   "source": [
    "#文本\n",
    "corpus = [\n",
    "    'This is the first document.',\n",
    "    'This is the second second document.',\n",
    "    'And the third one.',\n",
    "    'Is this the first document?',\n",
    "]\n"
   ]
  },
  {
   "cell_type": "markdown",
   "metadata": {},
   "source": [
    "#### CountVectorizer是通過fit_transform函數將文本中的詞語轉換為詞頻矩陣\n",
    "* get_feature_names()可看到所有文本的關鍵字\n",
    "* vocabulary_可看到所有文本的關鍵字和其位置\n",
    "* toarray()可看到詞頻矩陣的結果"
   ]
  },
  {
   "cell_type": "code",
   "execution_count": 30,
   "metadata": {},
   "outputs": [
    {
     "name": "stdout",
     "output_type": "stream",
     "text": [
      "\n",
      " get_feature_names ['and', 'document', 'first', 'is', 'one', 'second', 'the', 'third', 'this']\n",
      "\n",
      " vocabulary_ {'this': 8, 'is': 3, 'the': 6, 'first': 2, 'document': 1, 'second': 5, 'and': 0, 'third': 7, 'one': 4}\n",
      "\n",
      " toarray [[0 1 1 1 0 0 1 0 1]\n",
      " [0 1 0 1 0 2 1 0 1]\n",
      " [1 0 0 0 1 0 1 1 0]\n",
      " [0 1 1 1 0 0 1 0 1]]\n"
     ]
    }
   ],
   "source": [
    "#CountVectorizer 就是 tokenlizer\n",
    "vectorizer = CountVectorizer()\n",
    "count = vectorizer.fit_transform(corpus)\n",
    "print('\\n get_feature_names', vectorizer.get_feature_names())  \n",
    "print('\\n vocabulary_', vectorizer.vocabulary_)\n",
    "print('\\n toarray', count.toarray())\n",
    "\n"
   ]
  },
  {
   "cell_type": "markdown",
   "metadata": {},
   "source": [
    "#### TfidfTransformer是統計CountVectorizer中每個詞語的tf-idf權值"
   ]
  },
  {
   "cell_type": "code",
   "execution_count": 32,
   "metadata": {},
   "outputs": [
    {
     "name": "stdout",
     "output_type": "stream",
     "text": [
      "tfidf_matrix   (0, 8)\t0.4387767428592343\n",
      "  (0, 6)\t0.35872873824808993\n",
      "  (0, 3)\t0.4387767428592343\n",
      "  (0, 2)\t0.5419765697264572\n",
      "  (0, 1)\t0.4387767428592343\n",
      "  (1, 8)\t0.2723014675233404\n",
      "  (1, 6)\t0.22262429232510395\n",
      "  (1, 5)\t0.8532257361452786\n",
      "  (1, 3)\t0.2723014675233404\n",
      "  (1, 1)\t0.2723014675233404\n",
      "  (2, 7)\t0.5528053199908667\n",
      "  (2, 6)\t0.2884767487500274\n",
      "  (2, 4)\t0.5528053199908667\n",
      "  (2, 0)\t0.5528053199908667\n",
      "  (3, 8)\t0.4387767428592343\n",
      "  (3, 6)\t0.35872873824808993\n",
      "  (3, 3)\t0.4387767428592343\n",
      "  (3, 2)\t0.5419765697264572\n",
      "  (3, 1)\t0.4387767428592343\n",
      "[[0.         0.43877674 0.54197657 0.43877674 0.         0.\n",
      "  0.35872874 0.         0.43877674]\n",
      " [0.         0.27230147 0.         0.27230147 0.         0.85322574\n",
      "  0.22262429 0.         0.27230147]\n",
      " [0.55280532 0.         0.         0.         0.55280532 0.\n",
      "  0.28847675 0.55280532 0.        ]\n",
      " [0.         0.43877674 0.54197657 0.43877674 0.         0.\n",
      "  0.35872874 0.         0.43877674]]\n"
     ]
    }
   ],
   "source": [
    "transformer = TfidfTransformer()\n",
    "tfidf_matrix = transformer.fit_transform(count)\n",
    "\n",
    "print('tfidf_matrix', tfidf_matrix)\n",
    "print(tfidf_matrix.toarray())"
   ]
  },
  {
   "cell_type": "code",
   "execution_count": null,
   "metadata": {},
   "outputs": [],
   "source": []
  }
 ],
 "metadata": {
  "kernelspec": {
   "display_name": "Python 3",
   "language": "python",
   "name": "python3"
  },
  "language_info": {
   "codemirror_mode": {
    "name": "ipython",
    "version": 3
   },
   "file_extension": ".py",
   "mimetype": "text/x-python",
   "name": "python",
   "nbconvert_exporter": "python",
   "pygments_lexer": "ipython3",
   "version": "3.8.3"
  }
 },
 "nbformat": 4,
 "nbformat_minor": 2
}
