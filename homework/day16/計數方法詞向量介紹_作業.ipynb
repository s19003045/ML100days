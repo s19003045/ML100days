{
 "cells": [
  {
   "cell_type": "markdown",
   "metadata": {},
   "source": [
    "## 作業目標: 透過思考與回答以更加了解計數方法的詞向量"
   ]
  },
  {
   "cell_type": "markdown",
   "metadata": {},
   "source": [
    "### 請問詞庫手法會有什麼樣的優缺點？\n",
    "\n",
    "詞庫手法為創建包含大量字詞的詞庫，將相同意思字詞(同義字)或相似意思字詞(相似字)分類在相同群組。\n",
    "\n",
    "優點:\n",
    "- 在辨明語意上可以提供相對清楚的資訊\n",
    "- \n",
    "\n",
    "缺點:\n",
    "- 建立階層資料庫相對耗時\n",
    "- 需思考字詞的相似程度如何表示?\n",
    "- "
   ]
  },
  {
   "cell_type": "markdown",
   "metadata": {},
   "source": [
    "### 請問共現矩陣有什麼樣的優缺點？ \n",
    "\n",
    "根據分佈假說，相似的字詞會有類似的上下文，因此我們可以透過計數周圍(window)的字詞來表達特定字詞的向量。\n",
    "\n",
    "優點:\n",
    "- 可以呈現語意表示的上下文關係\n",
    "\n",
    "缺點:\n",
    "- 矩陣的資料比 one-hot-encoding 龐大\n",
    "- 有些字詞提供的意義不大，例如高頻詞(the, a)"
   ]
  },
  {
   "cell_type": "markdown",
   "metadata": {},
   "source": [
    "### 請問為何需要對共現矩陣或PPMI進行SVD降維?\n",
    "\n",
    "\n",
    "PMI :是為了解決共現矩陣的高頻詞的缺陷\n",
    "\n",
    "PPMI: 為了解決 PMI 中，當共現次數為 0 時所產生負無窮大的值\n",
    "\n",
    "SVD: 共現矩陣或PPMI的詞庫資料相對龐大，為了訓練模型有良好的表現，因此需要調整的參數也會較多。降維的手法可以減少參數及訓練資料，但同時有能反應原始資料的特性。"
   ]
  },
  {
   "cell_type": "markdown",
   "metadata": {},
   "source": [
    "### 實作cosine similarity\n",
    "\n",
    "在比較兩個詞向量的相似度時可以使用cosine similarity:\n",
    "$$\n",
    "similarity(x,y) = \\frac{x \\cdot y}{||x||||y||} = \\frac{x_1y_1+...+x_ny_n}{\\sqrt{x_1^2+...+x_n^2}\\sqrt{y_1^2+...+y_n^2}}\n",
    "$$\n",
    "\n",
    "請實作cosine similarity並計算共現矩陣課程範例中you向量([0,1,0,0,0,0,0])與I([0,1,0,1,0,0,0])向量的相似度"
   ]
  },
  {
   "cell_type": "code",
   "execution_count": null,
   "metadata": {},
   "outputs": [],
   "source": [
    "import numpy as np\n",
    "\n",
    "I = np.array([0,1,0,0,0,0,0])\n",
    "You = np.array([0,1,0,1,0,0,0])\n",
    "\n",
    "def cos_similarity(x, y, eps=1e-8):\n",
    "    print(zip(x, y))\n",
    "    print(type(zip(x, y)))\n",
    "    # zip(): 將一個以上的 iterable object 組合在一起，形成 tuple 的集合\n",
    "    # 最後長度等同於最小長度的 iterable object 的長度，因此超過長度的 iterable object 中大於指定長度的 item 會被忽略\n",
    "    multi = np.sum([i[0]*i[1] for i in zip(x, y)])\n",
    "    xSqrt = np.sqrt(np.sum([i*i for i in x]))\n",
    "    ySqrt = np.sqrt(np.sum([i*i for i in y]))\n",
    "    return multi / (xSqrt * ySqrt)\n",
    "\n",
    "print(f\"Similarity: {cos_similarity(I, You)}\")"
   ]
  },
  {
   "cell_type": "markdown",
   "metadata": {},
   "source": [
    "### zip練習\n",
    "\n",
    "- zip 為 python 內建函數\n",
    "- zip 的參數為可迭代物件\n"
   ]
  },
  {
   "cell_type": "code",
   "execution_count": null,
   "metadata": {},
   "outputs": [],
   "source": [
    "X = np.array([0,1,0,0,0,0,0,24])\n",
    "Y = np.array([0,1,0,1,0,0,0,1,23])\n",
    "Z = np.array([0,1,0,1,0,0,0,1,23])\n",
    "# 壓縮物件\n",
    "zipXYZ = zip(X,Y,Z)\n",
    "\n",
    "for i in zipXYZ:\n",
    "    print(i)\n",
    "    \n"
   ]
  },
  {
   "cell_type": "code",
   "execution_count": null,
   "metadata": {},
   "outputs": [],
   "source": [
    "for i in zip((1,2,3), (4,5,6)):\n",
    "    print(i)"
   ]
  },
  {
   "cell_type": "code",
   "execution_count": null,
   "metadata": {},
   "outputs": [],
   "source": []
  }
 ],
 "metadata": {
  "kernelspec": {
   "display_name": "Python 3",
   "language": "python",
   "name": "python3"
  },
  "language_info": {
   "codemirror_mode": {
    "name": "ipython",
    "version": 3
   },
   "file_extension": ".py",
   "mimetype": "text/x-python",
   "name": "python",
   "nbconvert_exporter": "python",
   "pygments_lexer": "ipython3",
   "version": "3.8.3"
  }
 },
 "nbformat": 4,
 "nbformat_minor": 2
}
